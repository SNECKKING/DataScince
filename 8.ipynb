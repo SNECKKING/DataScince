{
 "cells": [
  {
   "cell_type": "code",
   "execution_count": 12,
   "metadata": {},
   "outputs": [
    {
     "name": "stdout",
     "output_type": "stream",
     "text": [
      "12.800\n",
      "0.942\n"
     ]
    }
   ],
   "source": [
    "#8.1\n",
    "import math\n",
    "from scipy.stats import binom\n",
    "\n",
    "def binominal_rasp(n, p, x):\n",
    "    b = (math.factorial(n)/(math.factorial(x)*math.factorial(n-x)))*(p*x)*((1-p)*(n-x))\n",
    "    return b\n",
    "n = 5\n",
    "p = 0.8\n",
    "k = 3\n",
    "b = 0\n",
    "\n",
    "for x in range(k,n+1):     # x=3,4,5\n",
    "    b += binominal_rasp(n, p, x)\n",
    "print(\"%.3f\" %b)\n",
    "\n",
    "bin = binom.cdf(n, n , p ) - binom.cdf(k - 1, n , p)\n",
    "\n",
    "print(\"%.3f\" %bin)"
   ]
  },
  {
   "cell_type": "code",
   "execution_count": 21,
   "metadata": {},
   "outputs": [
    {
     "name": "stdout",
     "output_type": "stream",
     "text": [
      "Ймовірність надходження одного автомобіля за час t1 : 0.014872513059998144 0.014872513059998151\n",
      "Ймовірність надходження не більше трьох автомобілів за час t1: 0.15120388277664784 0.03718128264999538\n"
     ]
    }
   ],
   "source": [
    "#8.2\n",
    "from scipy.stats import poisson\n",
    "import math\n",
    "# Пуассонівський розподіл\n",
    "#calculate probability\n",
    "# kt - середня кількість успіхів за  проміжок часу t\n",
    "# m - кількість успіхів за проміжок часу t1\n",
    "# kt1 - середня кількість успіхів за  проміжок часу t1\n",
    "\n",
    "def puass(mp, kp):\n",
    "    return (kp*mp*math.exp(-kp)/math.factorial(mp))\n",
    "t = 1\n",
    "kt = 2\n",
    "t1 = 3\n",
    "kt1 = kt * t1 / t\n",
    "\n",
    "#ймовірність надходження одного автомобіля за час t1\n",
    "m = 1\n",
    "# формула Пуассона\n",
    "psn1_form = puass(m, kt1)\n",
    "# метод poisson.pmf из модуля scipy\n",
    "psn1 = poisson.pmf (m, kt1)\n",
    "print('Ймовірність надходження одного автомобіля за час t1 :',psn1, psn1_form)\n",
    "#ймовірність надходження не быльше трьох автомобіля за час t1\n",
    "m = 3\n",
    "# формула Пуассона P(m <=3 ) = p(3) + p (1) + p(2) + p(3)\n",
    "psn3_form = puass(0, kt1) + puass(1, kt1) + puass(2, kt1) + puass(3, kt1)\n",
    "# метод poisson.cdf из модуля scipy\n",
    "psn3 = poisson.cdf (m, kt1)\n",
    "\n",
    "print('Ймовірність надходження не більше трьох автомобілів за час t1:', psn3, psn3_form )"
   ]
  },
  {
   "cell_type": "code",
   "execution_count": 5,
   "metadata": {},
   "outputs": [
    {
     "name": "stdout",
     "output_type": "stream",
     "text": [
      "0.21185539858339641\n"
     ]
    }
   ],
   "source": [
    "#8.3\n",
    "from scipy.stats import norm\n",
    "\n",
    "\n",
    "# Нормальний розподіл\n",
    "# середнє значення 4,5\n",
    "# стандартне відхилення 0,5\n",
    "\n",
    "# створюємо нормальний розподіл\n",
    "distr = norm(4.5, 0.5)\n",
    "# вірогідність перевищення ваги 4,9 = 1 - вірогідність ваги менше 4,9\n",
    "p = 1 - distr.cdf(4.9)\n",
    "print(p)\n",
    "\n",
    "# розрахунок вірогідності попадання ваги в інтервал (4,9 ,∞ )\n",
    "# проводимо з використанням функції Лапласа\n",
    "# Р( 4,9 < X <  ∞) = Ф((∞ - 4,5)/0,5) - Ф((4,9 – 4,5)/0,5) =\n",
    "#  Ф (∞) - Ф(0,8) = 0,5 – 02881 =0,2119"
   ]
  },
  {
   "cell_type": "code",
   "execution_count": 8,
   "metadata": {},
   "outputs": [
    {
     "name": "stdout",
     "output_type": "stream",
     "text": [
      "0.375\n"
     ]
    }
   ],
   "source": [
    "#8.4\n",
    "from scipy.stats import uniform\n",
    "# рівномірний розподіл\n",
    "# [xmin, xmax] - відрізок, для якого обчислюється вірогідність перебування випадкової величини\n",
    "# loc = мінімальне можливе значення величини\n",
    "# loc + scale = максимальне можливе значення\n",
    "\n",
    "xmin = 30\n",
    "xmax = 60\n",
    "loc  =  0\n",
    "scale = 80 - loc\n",
    "p = uniform.cdf(xmax, loc, scale) - uniform.cdf(xmin, loc, scale)\n",
    "print(p)\n",
    "\n",
    "# інтегральна функція розподілу на відрізку від можливого мінімального до максимального значення:\n",
    "#  (Х - 0) / 80 = Х/80. Тоді вірогідність попадання випадкової величина в відрізок [xmin, xmax]:\n",
    "#  xmax/80 -  xmin/80 =  60/80 - 30/80 = 30/80 = 0,375"
   ]
  }
 ],
 "metadata": {
  "kernelspec": {
   "display_name": "Python 3.10.3 64-bit",
   "language": "python",
   "name": "python3"
  },
  "language_info": {
   "codemirror_mode": {
    "name": "ipython",
    "version": 3
   },
   "file_extension": ".py",
   "mimetype": "text/x-python",
   "name": "python",
   "nbconvert_exporter": "python",
   "pygments_lexer": "ipython3",
   "version": "3.10.3"
  },
  "orig_nbformat": 4,
  "vscode": {
   "interpreter": {
    "hash": "94e5eea1715708a1e78c3631190834d00f47d98cfb664d01f783a43e479631d3"
   }
  }
 },
 "nbformat": 4,
 "nbformat_minor": 2
}
